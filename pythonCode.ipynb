{
 "cells": [
  {
   "cell_type": "code",
   "execution_count": null,
   "id": "893ae97c-1ac7-4cf0-abbc-79a0421655a8",
   "metadata": {},
   "outputs": [],
   "source": [
    "# Testing\n",
    "# x = 1\n",
    "# print(x)"
   ]
  },
  {
   "cell_type": "code",
   "execution_count": 2,
   "id": "0b407678-8780-4c4e-885a-98ea58de3f23",
   "metadata": {},
   "outputs": [
    {
     "name": "stdin",
     "output_type": "stream",
     "text": [
      "Enter a string hello2\n",
      "Enter a number 5\n"
     ]
    },
    {
     "name": "stdout",
     "output_type": "stream",
     "text": [
      "mjqqt7\n"
     ]
    }
   ],
   "source": [
    "userinput = input('Enter a string')\n",
    "numberInput = input('Enter a number')\n",
    "try:\n",
    "    n = int(numberInput)\n",
    "except:\n",
    "    print('Not a number')\n",
    "print(\"\".join(map(lambda a: chr(ord(a) + n), userinput)))"
   ]
  },
  {
   "cell_type": "code",
   "execution_count": null,
   "id": "9c751dba-2d75-406f-88ad-f404bdd80d5a",
   "metadata": {},
   "outputs": [],
   "source": []
  }
 ],
 "metadata": {
  "kernelspec": {
   "display_name": "Python 3 (ipykernel)",
   "language": "python",
   "name": "python3"
  },
  "language_info": {
   "codemirror_mode": {
    "name": "ipython",
    "version": 3
   },
   "file_extension": ".py",
   "mimetype": "text/x-python",
   "name": "python",
   "nbconvert_exporter": "python",
   "pygments_lexer": "ipython3",
   "version": "3.11.5"
  }
 },
 "nbformat": 4,
 "nbformat_minor": 5
}
